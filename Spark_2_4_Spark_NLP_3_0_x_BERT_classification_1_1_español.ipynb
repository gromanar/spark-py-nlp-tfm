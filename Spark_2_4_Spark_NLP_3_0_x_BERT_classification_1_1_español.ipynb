{
  "nbformat": 4,
  "nbformat_minor": 0,
  "metadata": {
    "colab": {
      "name": "Spark 2.4 Spark NLP 3.0.x - BERT classification 1.1 - español",
      "provenance": [],
      "collapsed_sections": [],
      "include_colab_link": true
    },
    "kernelspec": {
      "display_name": "Python 3",
      "name": "python3"
    },
    "accelerator": "GPU"
  },
  "cells": [
    {
      "cell_type": "markdown",
      "metadata": {
        "id": "view-in-github",
        "colab_type": "text"
      },
      "source": [
        "<a href=\"https://colab.research.google.com/github/gromanar/spark-py-nlp-tfm/blob/main/Spark_2_4_Spark_NLP_3_0_x_BERT_classification_1_1_espa%C3%B1ol.ipynb\" target=\"_parent\"><img src=\"https://colab.research.google.com/assets/colab-badge.svg\" alt=\"Open In Colab\"/></a>"
      ]
    },
    {
      "cell_type": "code",
      "metadata": {
        "id": "UNtoc_jZg9qg"
      },
      "source": [
        "# !cat /proc/cpuinfo"
      ],
      "execution_count": null,
      "outputs": []
    },
    {
      "cell_type": "code",
      "metadata": {
        "colab": {
          "base_uri": "https://localhost:8080/"
        },
        "id": "ENRfdLrdlnWS",
        "outputId": "08e68182-05a4-49d4-f336-9f9bd596acde"
      },
      "source": [
        "GPU=True\n",
        "if GPU:\n",
        "  print(\"GPU Will be used\")\n",
        "  !nvidia-smi"
      ],
      "execution_count": null,
      "outputs": [
        {
          "output_type": "stream",
          "text": [
            "GPU Will be used\n",
            "Thu Jul 15 07:40:06 2021       \n",
            "+-----------------------------------------------------------------------------+\n",
            "| NVIDIA-SMI 470.42.01    Driver Version: 460.32.03    CUDA Version: 11.2     |\n",
            "|-------------------------------+----------------------+----------------------+\n",
            "| GPU  Name        Persistence-M| Bus-Id        Disp.A | Volatile Uncorr. ECC |\n",
            "| Fan  Temp  Perf  Pwr:Usage/Cap|         Memory-Usage | GPU-Util  Compute M. |\n",
            "|                               |                      |               MIG M. |\n",
            "|===============================+======================+======================|\n",
            "|   0  Tesla K80           Off  | 00000000:00:04.0 Off |                    0 |\n",
            "| N/A   66C    P8    34W / 149W |      0MiB / 11441MiB |      0%      Default |\n",
            "|                               |                      |                  N/A |\n",
            "+-------------------------------+----------------------+----------------------+\n",
            "                                                                               \n",
            "+-----------------------------------------------------------------------------+\n",
            "| Processes:                                                                  |\n",
            "|  GPU   GI   CI        PID   Type   Process name                  GPU Memory |\n",
            "|        ID   ID                                                   Usage      |\n",
            "|=============================================================================|\n",
            "|  No running processes found                                                 |\n",
            "+-----------------------------------------------------------------------------+\n"
          ],
          "name": "stdout"
        }
      ]
    },
    {
      "cell_type": "code",
      "metadata": {
        "colab": {
          "base_uri": "https://localhost:8080/",
          "height": 69
        },
        "id": "Qj86bKDdi5wK",
        "outputId": "5b67766a-0fcd-4fc6-ec1f-0982d412f15e"
      },
      "source": [
        "'''\n",
        "para evitar que se ponga en off, hacer ctrol + shift + i y luego a consola\n",
        "function ConnectButton(){\n",
        "    console.log(\"Connect pushed\"); \n",
        "    document.querySelector(\"#top-toolbar > colab-connect-button\").shadowRoot.querySelector(\"#connect\").click() \n",
        "}\n",
        "setInterval(ConnectButton,60000);\n",
        "'''"
      ],
      "execution_count": null,
      "outputs": [
        {
          "output_type": "execute_result",
          "data": {
            "application/vnd.google.colaboratory.intrinsic+json": {
              "type": "string"
            },
            "text/plain": [
              "'\\npara evitar que se ponga en off, hacer ctrol + shift + i y luego a consola\\nfunction ConnectButton(){\\n    console.log(\"Connect pushed\"); \\n    document.querySelector(\"#top-toolbar > colab-connect-button\").shadowRoot.querySelector(\"#connect\").click() \\n}\\nsetInterval(ConnectButton,60000);\\n'"
            ]
          },
          "metadata": {
            "tags": []
          },
          "execution_count": 3
        }
      ]
    },
    {
      "cell_type": "code",
      "metadata": {
        "colab": {
          "base_uri": "https://localhost:8080/"
        },
        "id": "n835HomuM1SZ",
        "outputId": "4ce1b3d8-c288-420c-83c9-b87fdc037b70"
      },
      "source": [
        "!lsb_release -a\n",
        "# !wget http://setup.johnsnowlabs.com/colab.sh && cat colab.sh"
      ],
      "execution_count": null,
      "outputs": [
        {
          "output_type": "stream",
          "text": [
            "No LSB modules are available.\n",
            "Distributor ID:\tUbuntu\n",
            "Description:\tUbuntu 18.04.5 LTS\n",
            "Release:\t18.04\n",
            "Codename:\tbionic\n"
          ],
          "name": "stdout"
        }
      ]
    },
    {
      "cell_type": "code",
      "metadata": {
        "colab": {
          "base_uri": "https://localhost:8080/"
        },
        "id": "0cJXumAzSvgb",
        "outputId": "73fd6506-1953-4578-a47b-917dc4eb6031"
      },
      "source": [
        "print( \"setup Colab para PySpark y Spark NLP \")\n",
        "!apt-get update\n",
        "!apt-get purge -y openjdk-11* -qq > /dev/null && sudo apt-get autoremove -y -qq > /dev/null\n",
        "!apt-get install -y openjdk-8-jdk-headless -qq > /dev/null"
      ],
      "execution_count": null,
      "outputs": [
        {
          "output_type": "stream",
          "text": [
            "setup Colab para PySpark y Spark NLP \n",
            "Get:1 https://cloud.r-project.org/bin/linux/ubuntu bionic-cran40/ InRelease [3,626 B]\n",
            "Ign:2 https://developer.download.nvidia.com/compute/cuda/repos/ubuntu1804/x86_64  InRelease\n",
            "Get:3 https://cloud.r-project.org/bin/linux/ubuntu bionic-cran40/ Packages [62.2 kB]\n",
            "Get:4 http://security.ubuntu.com/ubuntu bionic-security InRelease [88.7 kB]\n",
            "Ign:5 https://developer.download.nvidia.com/compute/machine-learning/repos/ubuntu1804/x86_64  InRelease\n",
            "Get:6 https://developer.download.nvidia.com/compute/cuda/repos/ubuntu1804/x86_64  Release [697 B]\n",
            "Hit:7 https://developer.download.nvidia.com/compute/machine-learning/repos/ubuntu1804/x86_64  Release\n",
            "Get:8 http://ppa.launchpad.net/c2d4u.team/c2d4u4.0+/ubuntu bionic InRelease [15.9 kB]\n",
            "Get:9 https://developer.download.nvidia.com/compute/cuda/repos/ubuntu1804/x86_64  Release.gpg [836 B]\n",
            "Hit:11 http://archive.ubuntu.com/ubuntu bionic InRelease\n",
            "Get:12 http://archive.ubuntu.com/ubuntu bionic-updates InRelease [88.7 kB]\n",
            "Hit:13 http://ppa.launchpad.net/cran/libgit2/ubuntu bionic InRelease\n",
            "Ign:14 https://developer.download.nvidia.com/compute/cuda/repos/ubuntu1804/x86_64  Packages\n",
            "Get:14 https://developer.download.nvidia.com/compute/cuda/repos/ubuntu1804/x86_64  Packages [637 kB]\n",
            "Get:15 http://security.ubuntu.com/ubuntu bionic-security/universe amd64 Packages [1,418 kB]\n",
            "Get:16 http://ppa.launchpad.net/deadsnakes/ppa/ubuntu bionic InRelease [15.9 kB]\n",
            "Get:17 http://archive.ubuntu.com/ubuntu bionic-backports InRelease [74.6 kB]\n",
            "Get:18 http://archive.ubuntu.com/ubuntu bionic-updates/universe amd64 Packages [2,188 kB]\n",
            "Hit:19 http://ppa.launchpad.net/graphics-drivers/ppa/ubuntu bionic InRelease\n",
            "Get:20 http://security.ubuntu.com/ubuntu bionic-security/main amd64 Packages [2,221 kB]\n",
            "Get:21 http://ppa.launchpad.net/c2d4u.team/c2d4u4.0+/ubuntu bionic/main Sources [1,780 kB]\n",
            "Get:22 http://archive.ubuntu.com/ubuntu bionic-updates/main amd64 Packages [2,658 kB]\n",
            "Get:23 http://ppa.launchpad.net/c2d4u.team/c2d4u4.0+/ubuntu bionic/main amd64 Packages [911 kB]\n",
            "Get:24 http://ppa.launchpad.net/deadsnakes/ppa/ubuntu bionic/main amd64 Packages [40.9 kB]\n",
            "Fetched 12.2 MB in 7s (1,731 kB/s)\n",
            "Reading package lists... Done\n"
          ],
          "name": "stdout"
        }
      ]
    },
    {
      "cell_type": "code",
      "metadata": {
        "colab": {
          "base_uri": "https://localhost:8080/"
        },
        "id": "5QOJF1S7LlBX",
        "outputId": "393c5625-1416-4479-c4e5-e95e0849c0a0"
      },
      "source": [
        "# !conda create -n sparknlp python=3.7 -y\n",
        "!conda activate sparknlp\n",
        "# !pip install spark-nlp==3.0.2 pyspark==3.1.1 # para spark 3 pero no tira\n",
        "!pip install spark-nlp==3.0.3 pyspark==2.4.7\n"
      ],
      "execution_count": null,
      "outputs": [
        {
          "output_type": "stream",
          "text": [
            "/bin/bash: conda: command not found\n",
            "Collecting spark-nlp==3.0.3\n",
            "\u001b[?25l  Downloading https://files.pythonhosted.org/packages/6c/35/3d06b93fefdeab0f6f544b1fc48e5e49c049697c38611ef870383031380b/spark_nlp-3.0.3-py2.py3-none-any.whl (43kB)\n",
            "\u001b[K     |████████████████████████████████| 51kB 2.8MB/s \n",
            "\u001b[?25hCollecting pyspark==2.4.7\n",
            "\u001b[?25l  Downloading https://files.pythonhosted.org/packages/e2/06/29f80e5a464033432eedf89924e7aa6ebbc47ce4dcd956853a73627f2c07/pyspark-2.4.7.tar.gz (217.9MB)\n",
            "\u001b[K     |████████████████████████████████| 217.9MB 60kB/s \n",
            "\u001b[?25hCollecting py4j==0.10.7\n",
            "\u001b[?25l  Downloading https://files.pythonhosted.org/packages/e3/53/c737818eb9a7dc32a7cd4f1396e787bd94200c3997c72c1dbe028587bd76/py4j-0.10.7-py2.py3-none-any.whl (197kB)\n",
            "\u001b[K     |████████████████████████████████| 204kB 18.6MB/s \n",
            "\u001b[?25hBuilding wheels for collected packages: pyspark\n",
            "  Building wheel for pyspark (setup.py) ... \u001b[?25l\u001b[?25hdone\n",
            "  Created wheel for pyspark: filename=pyspark-2.4.7-py2.py3-none-any.whl size=218279468 sha256=52f4250376bbb7bdd031c8b055e5d8df6cb0cb5df7f763ce049485ee160fc9fd\n",
            "  Stored in directory: /root/.cache/pip/wheels/34/1f/2e/1e7460f80acf26b08dbb8c53d7ff9e07146f2a68dd5c732be5\n",
            "Successfully built pyspark\n",
            "Installing collected packages: spark-nlp, py4j, pyspark\n",
            "Successfully installed py4j-0.10.7 pyspark-2.4.7 spark-nlp-3.0.3\n"
          ],
          "name": "stdout"
        }
      ]
    },
    {
      "cell_type": "code",
      "metadata": {
        "id": "qQEN9rTjUkV5"
      },
      "source": [
        "# export SPARK_HOME=$SPARKHOME\n",
        "# export JAVA_HOME=\"/usr/lib/jvm/java-8-openjdk-amd64\"\n",
        "\n",
        "# # Install pyspark spark-nlp\n",
        "# ! pip install --upgrade -q pyspark==$PYSPARK spark-nlp==$SPARKNLP findspark"
      ],
      "execution_count": null,
      "outputs": []
    },
    {
      "cell_type": "code",
      "metadata": {
        "id": "d-eB2ZZW2cKY"
      },
      "source": [
        "from pyspark.sql import SparkSession\n",
        "import pyspark.sql.functions as F\n",
        "from pyspark.sql.functions import col\n",
        "from pyspark.sql.types import *\n",
        "\n",
        "# spark NLP\n",
        "from sparknlp.base import *\n",
        "from sparknlp.annotator import *\n",
        "from pyspark.ml import Pipeline\n",
        "import pandas as pd\n",
        "\n",
        "# para las puntuaciones\n",
        "from sklearn.metrics import classification_report, accuracy_score, confusion_matrix\n",
        "from sklearn import preprocessing\n",
        "\n",
        "from sparknlp.base import LightPipeline"
      ],
      "execution_count": null,
      "outputs": []
    },
    {
      "cell_type": "code",
      "metadata": {
        "id": "_1PF73wbxcwA"
      },
      "source": [
        "import seaborn as sns\n",
        "# from sklearn.metrics import , classification_report\n",
        "import matplotlib.pyplot as plt\n",
        "from matplotlib import rc\n",
        "from pylab import rcParams\n",
        "%matplotlib inline\n",
        "%config InlineBackend.figure_format='retina'\n",
        "\n",
        "sns.set(style='whitegrid', palette='muted', font_scale=1.2)\n",
        "\n",
        "HAPPY_COLORS_PALETTE = [\"#01BEFE\", \"#FFDD00\", \"#FF7D00\", \"#FF006D\", \"#ADFF02\", \"#8F00FF\"]\n",
        "\n",
        "sns.set_palette(sns.color_palette(HAPPY_COLORS_PALETTE))\n",
        "\n",
        "rcParams['figure.figsize'] = 12, 8"
      ],
      "execution_count": null,
      "outputs": []
    },
    {
      "cell_type": "code",
      "metadata": {
        "id": "wJz7WKBVvAi5"
      },
      "source": [
        "import time\n",
        "inicio = time.time()"
      ],
      "execution_count": null,
      "outputs": []
    },
    {
      "cell_type": "code",
      "metadata": {
        "id": "lMVsotf6NKze",
        "colab": {
          "base_uri": "https://localhost:8080/",
          "height": 216
        },
        "outputId": "85276ca1-8db9-404c-c819-48884aede95e"
      },
      "source": [
        "# from pyspark.sql import SparkSession\n",
        "# choose gpu/cpu \n",
        "if GPU:\n",
        "  #sparknlp=\"com.johnsnowlabs.nlp:spark-nlp-gpu_2.12:3.0.2\"\n",
        "  sparknlp=\"com.johnsnowlabs.nlp:spark-nlp-gpu-spark24_2.11:3.0.3\"\n",
        "else:\n",
        "  #sparknlp=\"com.johnsnowlabs.nlp:spark-nlp_2.12:3.0.2\"\n",
        "  sparknlp=\"com.johnsnowlabs.nlp:spark-nlp-spark24_2.11:3.0.3\"\n",
        "spark = (SparkSession.builder\n",
        "              .master(\"local[*]\")\n",
        "              .appName(\"Spark NLP Classification\")\n",
        "              .config(\"spark.driver.memory\",\"10G\")  # maximo 12\n",
        "              .config(\"spark.driver.maxResultSize\", \"0\") \n",
        "              .config(\"spark.kryoserializer.buffer.max\", \"2000M\")\n",
        "              .config(\"spark.jars.packages\", sparknlp)\n",
        "              .getOrCreate()\n",
        "   )\n",
        "spark"
      ],
      "execution_count": null,
      "outputs": [
        {
          "output_type": "execute_result",
          "data": {
            "text/html": [
              "\n",
              "            <div>\n",
              "                <p><b>SparkSession - in-memory</b></p>\n",
              "                \n",
              "        <div>\n",
              "            <p><b>SparkContext</b></p>\n",
              "\n",
              "            <p><a href=\"http://3e193b858ce4:4040\">Spark UI</a></p>\n",
              "\n",
              "            <dl>\n",
              "              <dt>Version</dt>\n",
              "                <dd><code>v2.4.7</code></dd>\n",
              "              <dt>Master</dt>\n",
              "                <dd><code>local[*]</code></dd>\n",
              "              <dt>AppName</dt>\n",
              "                <dd><code>Spark NLP Classification</code></dd>\n",
              "            </dl>\n",
              "        </div>\n",
              "        \n",
              "            </div>\n",
              "        "
            ],
            "text/plain": [
              "<pyspark.sql.session.SparkSession at 0x7f5965bf7650>"
            ]
          },
          "metadata": {
            "tags": []
          },
          "execution_count": 11
        }
      ]
    },
    {
      "cell_type": "code",
      "metadata": {
        "colab": {
          "base_uri": "https://localhost:8080/"
        },
        "id": "asxmvPjRSEOE",
        "outputId": "a5b727e1-fbb0-4d65-eece-e085ac6cf437"
      },
      "source": [
        "import sparknlp\n",
        "print(\"Spark NLP version\", sparknlp.version())\n",
        "print(\"Apache Spark version:\", spark.version)"
      ],
      "execution_count": null,
      "outputs": [
        {
          "output_type": "stream",
          "text": [
            "Spark NLP version 3.0.3\n",
            "Apache Spark version: 2.4.7\n"
          ],
          "name": "stdout"
        }
      ]
    },
    {
      "cell_type": "markdown",
      "metadata": {
        "id": "AyoQsS4F3j5A"
      },
      "source": [
        "Crear funciones propias y ejecutandolas con `UDF` de pyspark.sql.functions"
      ]
    },
    {
      "cell_type": "markdown",
      "metadata": {
        "id": "xsXD_cpH3NaY"
      },
      "source": [
        "# 1. Read data"
      ]
    },
    {
      "cell_type": "markdown",
      "metadata": {
        "id": "kzfXwdbdUGOq"
      },
      "source": [
        "### download data"
      ]
    },
    {
      "cell_type": "code",
      "metadata": {
        "colab": {
          "base_uri": "https://localhost:8080/"
        },
        "id": "1RgDLmSZrjfL",
        "outputId": "0b8f485f-08e2-4b2a-865c-8c1edc5efb1c"
      },
      "source": [
        "!pip install awscli"
      ],
      "execution_count": null,
      "outputs": [
        {
          "output_type": "stream",
          "text": [
            "Collecting awscli\n",
            "\u001b[?25l  Downloading https://files.pythonhosted.org/packages/aa/24/e098cf5ce28a764bca174e88f4ccb70754e9f049c9bf986e582aedcb7420/awscli-1.19.112-py2.py3-none-any.whl (3.6MB)\n",
            "\u001b[K     |████████████████████████████████| 3.6MB 4.2MB/s \n",
            "\u001b[?25hRequirement already satisfied: PyYAML<5.5,>=3.10 in /usr/local/lib/python3.7/dist-packages (from awscli) (3.13)\n",
            "Collecting colorama<0.4.4,>=0.2.5\n",
            "  Downloading https://files.pythonhosted.org/packages/c9/dc/45cdef1b4d119eb96316b3117e6d5708a08029992b2fee2c143c7a0a5cc5/colorama-0.4.3-py2.py3-none-any.whl\n",
            "Collecting docutils<0.16,>=0.10\n",
            "\u001b[?25l  Downloading https://files.pythonhosted.org/packages/22/cd/a6aa959dca619918ccb55023b4cb151949c64d4d5d55b3f4ffd7eee0c6e8/docutils-0.15.2-py3-none-any.whl (547kB)\n",
            "\u001b[K     |████████████████████████████████| 552kB 38.7MB/s \n",
            "\u001b[?25hRequirement already satisfied: rsa<4.8,>=3.1.2; python_version > \"2.7\" in /usr/local/lib/python3.7/dist-packages (from awscli) (4.7.2)\n",
            "Collecting s3transfer<0.5.0,>=0.4.0\n",
            "\u001b[?25l  Downloading https://files.pythonhosted.org/packages/63/d0/693477c688348654ddc21dcdce0817653a294aa43f41771084c25e7ff9c7/s3transfer-0.4.2-py2.py3-none-any.whl (79kB)\n",
            "\u001b[K     |████████████████████████████████| 81kB 9.3MB/s \n",
            "\u001b[?25hCollecting botocore==1.20.112\n",
            "\u001b[?25l  Downloading https://files.pythonhosted.org/packages/c7/ea/11c3beca131920f552602b98d7ba9fc5b46bee6a59cbd48a95a85cbb8f41/botocore-1.20.112-py2.py3-none-any.whl (7.7MB)\n",
            "\u001b[K     |████████████████████████████████| 7.7MB 34.0MB/s \n",
            "\u001b[?25hRequirement already satisfied: pyasn1>=0.1.3 in /usr/local/lib/python3.7/dist-packages (from rsa<4.8,>=3.1.2; python_version > \"2.7\"->awscli) (0.4.8)\n",
            "Requirement already satisfied: python-dateutil<3.0.0,>=2.1 in /usr/local/lib/python3.7/dist-packages (from botocore==1.20.112->awscli) (2.8.1)\n",
            "Collecting urllib3<1.27,>=1.25.4\n",
            "\u001b[?25l  Downloading https://files.pythonhosted.org/packages/5f/64/43575537846896abac0b15c3e5ac678d787a4021e906703f1766bfb8ea11/urllib3-1.26.6-py2.py3-none-any.whl (138kB)\n",
            "\u001b[K     |████████████████████████████████| 143kB 41.5MB/s \n",
            "\u001b[?25hCollecting jmespath<1.0.0,>=0.7.1\n",
            "  Downloading https://files.pythonhosted.org/packages/07/cb/5f001272b6faeb23c1c9e0acc04d48eaaf5c862c17709d20e3469c6e0139/jmespath-0.10.0-py2.py3-none-any.whl\n",
            "Requirement already satisfied: six>=1.5 in /usr/local/lib/python3.7/dist-packages (from python-dateutil<3.0.0,>=2.1->botocore==1.20.112->awscli) (1.15.0)\n",
            "\u001b[31mERROR: requests 2.23.0 has requirement urllib3!=1.25.0,!=1.25.1,<1.26,>=1.21.1, but you'll have urllib3 1.26.6 which is incompatible.\u001b[0m\n",
            "\u001b[31mERROR: datascience 0.10.6 has requirement folium==0.2.1, but you'll have folium 0.8.3 which is incompatible.\u001b[0m\n",
            "Installing collected packages: colorama, docutils, urllib3, jmespath, botocore, s3transfer, awscli\n",
            "  Found existing installation: docutils 0.17.1\n",
            "    Uninstalling docutils-0.17.1:\n",
            "      Successfully uninstalled docutils-0.17.1\n",
            "  Found existing installation: urllib3 1.24.3\n",
            "    Uninstalling urllib3-1.24.3:\n",
            "      Successfully uninstalled urllib3-1.24.3\n",
            "Successfully installed awscli-1.19.112 botocore-1.20.112 colorama-0.4.3 docutils-0.15.2 jmespath-0.10.0 s3transfer-0.4.2 urllib3-1.26.6\n"
          ],
          "name": "stdout"
        }
      ]
    },
    {
      "cell_type": "code",
      "metadata": {
        "id": "440q8rhpsUGJ"
      },
      "source": [
        "# !aws s3 ls s3://amazon-reviews-ml/json/train/ --no-sign-request\n",
        "# https://docs.aws.amazon.com/cli/latest/reference/dataexchange/get-data-set.html\n",
        "# https://registry.opendata.aws/amazon-reviews-ml/ --> información al dataset"
      ],
      "execution_count": null,
      "outputs": []
    },
    {
      "cell_type": "code",
      "metadata": {
        "colab": {
          "base_uri": "https://localhost:8080/"
        },
        "id": "c7iMVhzOs9dy",
        "outputId": "e2d6b820-8a7f-4d32-99fa-e5bff56477c9"
      },
      "source": [
        "!aws s3 cp s3://amazon-reviews-ml/json/test/dataset_es_test.json ./sample_data/ --no-sign-request\n",
        "!aws s3 cp s3://amazon-reviews-ml/json/train/dataset_es_train.json ./sample_data/ --no-sign-request"
      ],
      "execution_count": null,
      "outputs": [
        {
          "output_type": "stream",
          "text": [
            "download: s3://amazon-reviews-ml/json/test/dataset_es_test.json to sample_data/dataset_es_test.json\n",
            "download: s3://amazon-reviews-ml/json/train/dataset_es_train.json to sample_data/dataset_es_train.json\n"
          ],
          "name": "stdout"
        }
      ]
    },
    {
      "cell_type": "code",
      "metadata": {
        "id": "cxSM3-q9QI-D"
      },
      "source": [
        "# !wget https://raw.githubusercontent.com/JohnSnowLabs/spark-nlp-workshop/master/tutorials/Certification_Trainings/Public/data/news_category_train.csv -P ./sample_data -q\n",
        "# !wget https://raw.githubusercontent.com/JohnSnowLabs/spark-nlp-workshop/master/tutorials/Certification_Trainings/Public/data/news_category_test.csv -P ./sample_data -q"
      ],
      "execution_count": null,
      "outputs": []
    },
    {
      "cell_type": "code",
      "metadata": {
        "id": "B0mdXvPgPMVJ"
      },
      "source": [
        "# !wget https://archive.ics.uci.edu/ml/machine-learning-databases/00259/rcv1rcv2aminigoutte.tar.bz2 -P ./sample_data -q\n",
        "# !tar -tf ./sample_data/rcv1rcv2aminigoutte.tar.bz2\n",
        "# !tar -xf ./sample_data/rcv1rcv2aminigoutte.tar.bz2 rcv1rcv2aminigoutte/SP/ -C ./sample_data/\n",
        "# !head /content/rcv1rcv2aminigoutte/SP/Index_SP-SP"
      ],
      "execution_count": null,
      "outputs": []
    },
    {
      "cell_type": "code",
      "metadata": {
        "colab": {
          "base_uri": "https://localhost:8080/"
        },
        "id": "GarGXlW2UFZ4",
        "outputId": "ecb2c4ed-627e-409a-9acc-f9f09cedde80"
      },
      "source": [
        "!ls ./sample_data"
      ],
      "execution_count": null,
      "outputs": [
        {
          "output_type": "stream",
          "text": [
            "anscombe.json\t\t      dataset_es_test.json   mnist_train_small.csv\n",
            "california_housing_test.csv   dataset_es_train.json  README.md\n",
            "california_housing_train.csv  mnist_test.csv\n"
          ],
          "name": "stdout"
        }
      ]
    },
    {
      "cell_type": "code",
      "metadata": {
        "colab": {
          "base_uri": "https://localhost:8080/",
          "height": 52
        },
        "id": "Z-8J7Hh9wrPP",
        "outputId": "930cdd24-e738-4e99-a32f-b346fae8d601"
      },
      "source": [
        "\n",
        "# Si queremos hacer el split al dataset\n",
        "'''\n",
        "(trainingData, testData) = trainDataset.randomSplit([0.7, 0.3], seed = 100)\n",
        "print(\"Training Dataset Count: \" + str(trainingData.count()))\n",
        "print(\"Test Dataset Count: \" + str(testData.count()))\n",
        "'''"
      ],
      "execution_count": null,
      "outputs": [
        {
          "output_type": "execute_result",
          "data": {
            "application/vnd.google.colaboratory.intrinsic+json": {
              "type": "string"
            },
            "text/plain": [
              "'\\n(trainingData, testData) = trainDataset.randomSplit([0.7, 0.3], seed = 100)\\nprint(\"Training Dataset Count: \" + str(trainingData.count()))\\nprint(\"Test Dataset Count: \" + str(testData.count()))\\n'"
            ]
          },
          "metadata": {
            "tags": []
          },
          "execution_count": 19
        }
      ]
    },
    {
      "cell_type": "code",
      "metadata": {
        "id": "KgwfSC1SQGsG"
      },
      "source": [
        "root_folder = \"./sample_data/\"\n",
        "# traindata = root_folder + \"news_category_train.csv\"\n",
        "# testdata = root_folder + \"news_category_test.csv\"\n",
        "traindata = root_folder + \"dataset_es_train.json\"\n",
        "testdata = root_folder + \"dataset_es_test.json\""
      ],
      "execution_count": null,
      "outputs": []
    },
    {
      "cell_type": "code",
      "metadata": {
        "colab": {
          "base_uri": "https://localhost:8080/"
        },
        "id": "eINI59X63KGW",
        "outputId": "b830d53e-0c0f-4101-912b-9cfcf9fff04c"
      },
      "source": [
        "trainDataset = spark.read \\\n",
        "      .option(\"header\", True) \\\n",
        "      .json(traindata)\n",
        "      #.csv(traindata)\n",
        "trainDataset.show(10, truncate=50)"
      ],
      "execution_count": null,
      "outputs": [
        {
          "output_type": "stream",
          "text": [
            "+--------+----------------+------------------+--------------------------------------------------+----------+--------------------------------------------------+-------------------+-----+\n",
            "|language|product_category|        product_id|                                       review_body| review_id|                                      review_title|        reviewer_id|stars|\n",
            "+--------+----------------+------------------+--------------------------------------------------+----------+--------------------------------------------------+-------------------+-----+\n",
            "|      es|     electronics|product_es_0296024|Nada bueno se me fue ka pantalla en menos de 8 ...|es_0491108|                                  television Nevir|reviewer_es_0999081|    1|\n",
            "|      es|     electronics|product_es_0922286|Horrible, nos tuvimos que comprar otro porque n...|es_0869872|         Dinero tirado a la basura con esta compra|reviewer_es_0216771|    1|\n",
            "|      es|       drugstore|product_es_0474543|Te obligan a comprar dos unidades y te llega so...|es_0811721|solo llega una unidad cuando te obligan a compr...|reviewer_es_0929213|    1|\n",
            "|      es|        wireless|product_es_0656090|No entro en descalificar al vendedor, solo pued...|es_0359921|                             PRODUCTO NO RECIBIDO.|reviewer_es_0224702|    1|\n",
            "|      es|           shoes|product_es_0662544|              Llega tarde y co la talla equivocada|es_0068940|                                          Devuelto|reviewer_es_0224827|    1|\n",
            "|      es|            home|product_es_0103315|Jamás me llegó y el vendedor nunca contacto con...|es_0779978|                                    Jamás me llegó|reviewer_es_0304973|    1|\n",
            "|      es|         luggage|product_es_0880915|El paraguas es de muy mala calidad,da la sensac...|es_0591840|                                      Horroroso!!!|reviewer_es_0642702|    1|\n",
            "|      es|  office_product|product_es_0814677|Tuve que devolverla porque al ser triangular no...|es_0173297|                                    Poco funcional|reviewer_es_0895784|    1|\n",
            "|      es|     electronics|product_es_0654228|Estoy esperando despues de protestar varias vec...|es_0101300|                                       No me llego|reviewer_es_0789283|    1|\n",
            "|      es|         kitchen|product_es_0877793|Defectuoso. En apariencia muy bien producto, pe...|es_0487007|                          Mala calidad, defectuoso|reviewer_es_0986278|    1|\n",
            "+--------+----------------+------------------+--------------------------------------------------+----------+--------------------------------------------------+-------------------+-----+\n",
            "only showing top 10 rows\n",
            "\n"
          ],
          "name": "stdout"
        }
      ]
    },
    {
      "cell_type": "code",
      "metadata": {
        "colab": {
          "base_uri": "https://localhost:8080/",
          "height": 560
        },
        "id": "-2JjwgtMw7wq",
        "outputId": "304b25f1-2ddb-41d4-8419-8d057c48c118"
      },
      "source": [
        "sns.countplot(trainDataset.select(\"stars\").rdd.flatMap(lambda x: x).collect())\n",
        "plt.xlabel('review score');\n"
      ],
      "execution_count": null,
      "outputs": [
        {
          "output_type": "stream",
          "text": [
            "/usr/local/lib/python3.7/dist-packages/seaborn/_decorators.py:43: FutureWarning: Pass the following variable as a keyword arg: x. From version 0.12, the only valid positional argument will be `data`, and passing other arguments without an explicit keyword will result in an error or misinterpretation.\n",
            "  FutureWarning\n"
          ],
          "name": "stderr"
        },
        {
          "output_type": "display_data",
          "data": {
            "image/png": "[encoded data removed]",
            "text/plain": [
              "<Figure size 864x576 with 1 Axes>"
            ]
          },
          "metadata": {
            "tags": [],
            "image/png": {
              "width": 753,
              "height": 489
            }
          }
        }
      ]
    },
    {
      "cell_type": "code",
      "metadata": {
        "id": "bVvL7-Awyh5S"
      },
      "source": [
        "trainDataset = trainDataset.withColumn(\"sentiment\",F.when(col(\"stars\")<=2,0).when(col(\"stars\")==3,1).otherwise(2))"
      ],
      "execution_count": null,
      "outputs": []
    },
    {
      "cell_type": "code",
      "metadata": {
        "id": "cqmnxiTja1Bc"
      },
      "source": [
        "temp_ds = trainDataset.filter(\"sentiment==0\").limit(40000)\n",
        "temp_ds = temp_ds\\\n",
        "  .unionByName(trainDataset.filter(\"sentiment==1\"))\\\n",
        "  .unionByName(trainDataset.filter(\"sentiment==2\").limit(40000))\n"
      ],
      "execution_count": null,
      "outputs": []
    },
    {
      "cell_type": "code",
      "metadata": {
        "colab": {
          "base_uri": "https://localhost:8080/",
          "height": 560
        },
        "id": "M6skCRrzygUX",
        "outputId": "68d0050b-9a3e-494d-bd79-069d2061c9f8"
      },
      "source": [
        "# tenemos problema de \n",
        "sns.countplot(temp_ds.select(\"sentiment\").rdd.flatMap(lambda x: x).collect())\n",
        "plt.xlabel('sentiment score');\n",
        "trainDataset = temp_ds"
      ],
      "execution_count": null,
      "outputs": [
        {
          "output_type": "stream",
          "text": [
            "/usr/local/lib/python3.7/dist-packages/seaborn/_decorators.py:43: FutureWarning: Pass the following variable as a keyword arg: x. From version 0.12, the only valid positional argument will be `data`, and passing other arguments without an explicit keyword will result in an error or misinterpretation.\n",
            "  FutureWarning\n"
          ],
          "name": "stderr"
        },
        {
          "output_type": "display_data",
          "data": {
            "image/png": "[encoded data removed]",
            "text/plain": [
              "<Figure size 864x576 with 1 Axes>"
            ]
          },
          "metadata": {
            "tags": [],
            "image/png": {
              "width": 753,
              "height": 489
            }
          }
        }
      ]
    },
    {
      "cell_type": "code",
      "metadata": {
        "id": "GJ0-ssxoc8_N"
      },
      "source": [
        "# renombramos el dataset temporal al de entrenamiento.\n",
        "trainDataset = temp_ds"
      ],
      "execution_count": null,
      "outputs": []
    },
    {
      "cell_type": "markdown",
      "metadata": {
        "id": "VW98AW4N3Z39"
      },
      "source": [
        "# 2. Explore data"
      ]
    },
    {
      "cell_type": "code",
      "metadata": {
        "colab": {
          "base_uri": "https://localhost:8080/"
        },
        "id": "k0-ItxaTiFaM",
        "outputId": "ed458aad-ed47-4deb-ea00-224f6c9189cd"
      },
      "source": [
        "print(\"el numero de particiones es: \",trainDataset.rdd.getNumPartitions())\n",
        "# Let's do a full-shuffle with the repartition method and get this data on two nodes.\n",
        "trainDataset = trainDataset.repartition(200)\n",
        "print(\"el numero de particiones despues de la reparticion es (a parTe que se ha hecho fullsuffle) : \",trainDataset.rdd.getNumPartitions())"
      ],
      "execution_count": null,
      "outputs": [
        {
          "output_type": "stream",
          "text": [
            "el numero de particiones es:  4\n",
            "el numero de particiones despues de la reparticion es (a parTe que se ha hecho fullsuffle) :  200\n"
          ],
          "name": "stdout"
        }
      ]
    },
    {
      "cell_type": "code",
      "metadata": {
        "colab": {
          "base_uri": "https://localhost:8080/"
        },
        "id": "hN4-Ai9d3JI3",
        "outputId": "d1c0dda3-941a-4450-c80b-215e6900dfdd"
      },
      "source": [
        "trainDataset.groupBy(\"sentiment\") \\\n",
        "    .count() \\\n",
        "    .orderBy(col(\"count\").desc()) \\\n",
        "    .show()\n"
      ],
      "execution_count": null,
      "outputs": [
        {
          "output_type": "stream",
          "text": [
            "+---------+-----+\n",
            "|sentiment|count|\n",
            "+---------+-----+\n",
            "|        1|40000|\n",
            "|        2|40000|\n",
            "|        0|40000|\n",
            "+---------+-----+\n",
            "\n"
          ],
          "name": "stdout"
        }
      ]
    },
    {
      "cell_type": "markdown",
      "metadata": {
        "id": "udAp11ce3jfn"
      },
      "source": [
        "# 3. Create Test"
      ]
    },
    {
      "cell_type": "code",
      "metadata": {
        "colab": {
          "base_uri": "https://localhost:8080/"
        },
        "id": "urL3rrvp3Isa",
        "outputId": "3df746d7-27d9-46ee-ac32-5bd0b7d3d862"
      },
      "source": [
        "testDataset = spark.read \\\n",
        "      .option(\"header\", True) \\\n",
        "      .json(testdata)\n",
        "\n",
        "testDataset = testDataset.withColumn(\"sentiment\",F.when(col(\"stars\")<=2,0).when(col(\"stars\")==3,1).otherwise(2))\n",
        "\n",
        "temp_ds = testDataset.filter(\"sentiment==0\").limit(1000)\n",
        "testDataset = temp_ds\\\n",
        "  .unionByName(testDataset.filter(\"sentiment==1\"))\\\n",
        "  .unionByName(testDataset.filter(\"sentiment==2\").limit(1000))\n",
        "\n",
        "testDataset.groupBy(\"sentiment\") \\\n",
        "    .count() \\\n",
        "    .orderBy(col(\"count\").desc()) \\\n",
        "    .show()"
      ],
      "execution_count": null,
      "outputs": [
        {
          "output_type": "stream",
          "text": [
            "+---------+-----+\n",
            "|sentiment|count|\n",
            "+---------+-----+\n",
            "|        2| 1000|\n",
            "|        1| 1000|\n",
            "|        0| 1000|\n",
            "+---------+-----+\n",
            "\n"
          ],
          "name": "stdout"
        }
      ]
    },
    {
      "cell_type": "markdown",
      "metadata": {
        "id": "DHAz8f-SDJnA"
      },
      "source": [
        "## CONFIGURACIÓN DE LOS MODELOS PREENTRENADOS BERT\n",
        "\n",
        ">CONSULTAR LOS MODELOS PREENTRENADOS DISPONIBLES [AQUI](https://nlp.johnsnowlabs.com/models)\n",
        "\n"
      ]
    },
    {
      "cell_type": "code",
      "metadata": {
        "id": "wQkNsWrqwsBj"
      },
      "source": [
        "def experimento(tipo: str, idioma: str):\n",
        "  if tipo.upper()==\"A\":\n",
        "    BATCH_SIZE = 16\n",
        "    EPOCHS = 2\n",
        "    LEARNING_RATE = 5e-5\n",
        "  elif tipo.upper()==\"B\":\n",
        "    BATCH_SIZE = 32\n",
        "    EPOCHS = 4\n",
        "    LEARNING_RATE = 3e-5\n",
        "  else:\n",
        "      print(\"elige experimento\")\n",
        "  \n",
        "  if idioma.upper()==\"EN\":\n",
        "    PRE_TRAINED_MODEL_NAME = 'small_bert_L4_256'\n",
        "  elif idioma.upper()==\"ES\":\n",
        "    PRE_TRAINED_MODEL_NAME = 'bert_multi_cased'\n",
        "  else:\n",
        "    print(\"modelo no elegido\")\n",
        "  return BATCH_SIZE, EPOCHS, LEARNING_RATE,PRE_TRAINED_MODEL_NAME\n",
        "\n"
      ],
      "execution_count": null,
      "outputs": []
    },
    {
      "cell_type": "code",
      "metadata": {
        "id": "W0TFXKLbyMbl"
      },
      "source": [
        "BATCH_SIZE, EPOCHS, LEARNING_RATE, PRE_TRAINED_MODEL_NAME = experimento(tipo = \"a\", idioma =\"es\")\n",
        "\n",
        "\n",
        "SENTENCE_PRE_TRAINED_MODEL_NAME = 'sent_'+PRE_TRAINED_MODEL_NAME\n",
        "\n",
        "# Original values\n",
        "# PRE_TRAINED_MODEL_NAME = 'bert_base_cased' # 389.1 MB\n",
        "# PRE_TRAINED_MODEL_NAME = 'sent_small_bert_L8_512' 149.1 MB\n",
        "# PRE_TRAINED_MODEL_NAME = 'small_bert_L4_256' 40.5 MB\n",
        "\n",
        "# Para sentence embeddings.\n",
        "# SENTENCE_PRE_TRAINED_MODEL_NAME = 'sent_bert_base_cased'\n",
        "# SENTENCE_PRE_TRAINED_MODEL_NAME = 'sent_small_bert_L8_512' # 149.1 MB\n",
        "\n",
        "\n",
        "# set learning rate \n",
        "# learning_rate = 0.001\n",
        "# learning_rate = 2e-5\n",
        "\n",
        "\n",
        "\n",
        "\n",
        "# Batch size: 16, 32\n",
        "# Learning rate (Adam): 5e-5, 3e-5, 2e-5\n",
        "# Number of epochs: 2, 3, 4"
      ],
      "execution_count": null,
      "outputs": []
    },
    {
      "cell_type": "code",
      "metadata": {
        "colab": {
          "base_uri": "https://localhost:8080/"
        },
        "id": "OaR4TRLTmTsH",
        "outputId": "efb8abcb-42e7-4ebe-ac80-4e049e781124"
      },
      "source": [
        "print(f\"BATCH_SIZE: {BATCH_SIZE}\")\n",
        "print(f\"LEARNING_RATE: {LEARNING_RATE}\")\n",
        "print(f\"EPOCHS: {EPOCHS}\")\n",
        "print(f\"PRE_TRAINED_MODEL_NAME: {PRE_TRAINED_MODEL_NAME}\")\n",
        "print(f\"PRE_TRAINED_MODEL_NAME FOR SENTENCES: {SENTENCE_PRE_TRAINED_MODEL_NAME}\")"
      ],
      "execution_count": null,
      "outputs": [
        {
          "output_type": "stream",
          "text": [
            "BATCH_SIZE: 16\n",
            "LEARNING_RATE: 5e-05\n",
            "EPOCHS: 2\n",
            "PRE_TRAINED_MODEL_NAME: bert_multi_cased\n",
            "PRE_TRAINED_MODEL_NAME FOR SENTENCES: sent_bert_multi_cased\n"
          ],
          "name": "stdout"
        }
      ]
    },
    {
      "cell_type": "markdown",
      "metadata": {
        "id": "5mdyBaySnGS1"
      },
      "source": [
        "# 4. Clasificación de textos usando BERT EMBEDDINGS\n",
        "\n",
        "Naming conventions in Spark NLP Bert models. L indicates which pooling layer is used while producing the embeddings and H mean the dimension of the embeddings returned. \n",
        "\n",
        "L indica que pooling layer se usa mientras se producen las ingestas y \n",
        "H significa la dimensión que se devuelve de esos embeddings\n",
        "\n",
        "[ver lista](https://github.com/JohnSnowLabs/spark-nlp-models)\n",
        "\n",
        "- utilizamos `BertSentenceEmbeddings` == `'sent_small_bert_L8_512'`\n",
        "\n",
        "  Simplemente cargamos `Bert Sentence Embeddings Small` con dimensión L8 y 512 y usamos eso en lugar de USE. Como puede ver, es casi 8 veces más pequeño que el tamaño de USE con el poder de Bert. \n",
        "\n",
        "El modelo se puede utilizar de manera offline si se desea, pero habria que descargarlo previamente.\n",
        "\n",
        "De esta manera dejamos a SPARK_NLP que lo baje automáticamente.\n",
        "\n",
        "\n"
      ]
    },
    {
      "cell_type": "code",
      "metadata": {
        "colab": {
          "base_uri": "https://localhost:8080/"
        },
        "id": "PhIB99ISvoFs",
        "outputId": "99729016-dde5-4a60-8cdf-c93a093baeda"
      },
      "source": [
        "(time.time() - inicio)/60"
      ],
      "execution_count": null,
      "outputs": [
        {
          "output_type": "execute_result",
          "data": {
            "text/plain": [
              "2.0121896107991537"
            ]
          },
          "metadata": {
            "tags": []
          },
          "execution_count": 33
        }
      ]
    },
    {
      "cell_type": "markdown",
      "metadata": {
        "id": "T_9jcwajpgdT"
      },
      "source": [
        "**BERT EMBEDDINGS**"
      ]
    },
    {
      "cell_type": "code",
      "metadata": {
        "colab": {
          "base_uri": "https://localhost:8080/"
        },
        "id": "noyVZ7FxtPCR",
        "outputId": "b5227a8c-e5cb-48e9-963a-3ba97382bfb1"
      },
      "source": [
        "document_assembler = DocumentAssembler() \\\n",
        "    .setInputCol(\"review_body\") \\\n",
        "    .setOutputCol(\"document\")\n",
        "    \n",
        "tokenizer = Tokenizer() \\\n",
        "    .setInputCols([\"document\"]) \\\n",
        "    .setOutputCol(\"token\")\n",
        "\n",
        "# BertEmbeddings utiliza los datos de una red neuronal entrenada previamente (el nombre del modelo) para crear codificar las palabras que contiene cada texto \n",
        "# convirtiendo a vectores dichas palabras. (codificandolas) AQUI USE AL PRINCIPIO 'small_bert_L4_256'\n",
        "bert_embeddings = BertEmbeddings().pretrained(name=PRE_TRAINED_MODEL_NAME, lang='xx') \\\n",
        "    .setInputCols([\"document\",'token'])\\\n",
        "    .setOutputCol(\"embeddings\")\n",
        "#\n",
        "embeddingsSentence = SentenceEmbeddings() \\\n",
        "    .setInputCols([\"document\", \"embeddings\"]) \\\n",
        "    .setOutputCol(\"sentence_embeddings\") \\\n",
        "    .setPoolingStrategy(\"AVERAGE\")\n",
        "# ClassifierDLApproach: ClassifierDL Utiliza el State-of-the-art de las Universal Sentence Encoder como input para iniciar clasificaciones de texto.\n",
        "# es un clasificador que contiene casi 100 clases de tensorflow, usa modelos de deep learning DNN\n",
        "# LR 5e-3f BATCHSIZE 8\n",
        "classsifierdl = ClassifierDLApproach()\\\n",
        "    .setInputCols([\"sentence_embeddings\"])\\\n",
        "    .setOutputCol(\"class\")\\\n",
        "    .setLabelColumn(\"sentiment\")\\\n",
        "    .setMaxEpochs(EPOCHS)\\\n",
        "    .setLr(LEARNING_RATE)\\\n",
        "    .setBatchSize(BATCH_SIZE)\\\n",
        "    .setEnableOutputLogs(True)\n",
        "    #.setOutputLogsPath('logs')\n",
        "\n",
        "bert_clf_pipeline = Pipeline(stages=[\n",
        "    document_assembler, \n",
        "    tokenizer,\n",
        "    bert_embeddings,\n",
        "    embeddingsSentence,\n",
        "    classsifierdl\n",
        "])\n"
      ],
      "execution_count": null,
      "outputs": [
        {
          "output_type": "stream",
          "text": [
            "bert_multi_cased download started this may take some time.\n",
            "Approximate size to download 638.6 MB\n",
            "[OK!]\n"
          ],
          "name": "stdout"
        }
      ]
    },
    {
      "cell_type": "markdown",
      "metadata": {
        "id": "ordGbj6uCGmu"
      },
      "source": [
        "## 4.1 Ajuste del modelo (FIT)"
      ]
    },
    {
      "cell_type": "code",
      "metadata": {
        "id": "YyjDaQFLumuD",
        "colab": {
          "base_uri": "https://localhost:8080/"
        },
        "outputId": "53e7b81f-b816-44e4-efce-b2a7464553ce"
      },
      "source": [
        "%%time\n",
        "bert_Model = bert_clf_pipeline.fit(trainDataset) #\n",
        "# GPU\n",
        "# CPU times: user 8.61 s, sys: 797 ms, total: 9.41 s\n",
        "# Wall time: 36min 43s"
      ],
      "execution_count": null,
      "outputs": [
        {
          "output_type": "stream",
          "text": [
            "CPU times: user 23.5 s, sys: 2.98 s, total: 26.5 s\n",
            "Wall time: 1h 17min 51s\n"
          ],
          "name": "stdout"
        }
      ]
    },
    {
      "cell_type": "code",
      "metadata": {
        "id": "aSF7RTMOvpnl",
        "colab": {
          "base_uri": "https://localhost:8080/"
        },
        "outputId": "ad5f302d-e562-47f5-88ec-88167ecd4098"
      },
      "source": [
        "(time.time() - inicio)/60\n",
        "# bert_Model.withColumn(\"tmp\", F.explode(\"chunk\")).select(\"tmp.*\")"
      ],
      "execution_count": null,
      "outputs": [
        {
          "output_type": "execute_result",
          "data": {
            "text/plain": [
              "88.0389175216357"
            ]
          },
          "metadata": {
            "tags": []
          },
          "execution_count": 36
        }
      ]
    },
    {
      "cell_type": "markdown",
      "metadata": {
        "id": "KPwTNk--4LKp"
      },
      "source": [
        "## 4.2 realizamos predicciones en el conjunto de prueba "
      ]
    },
    {
      "cell_type": "code",
      "metadata": {
        "id": "Jtsvm3f1gnHM",
        "colab": {
          "base_uri": "https://localhost:8080/"
        },
        "outputId": "f9f82d91-9067-4b38-bc90-2f9b1887b595"
      },
      "source": [
        "# prueba ligera\n",
        "light_model = LightPipeline(bert_Model)\n",
        "\n",
        "light_result = light_model.annotate(\"Este producto es un poco asqueroso, no me ha gustado nada\")\n",
        "print(light_result)"
      ],
      "execution_count": null,
      "outputs": [
        {
          "output_type": "stream",
          "text": [
            "{'document': ['Este producto es un poco asqueroso, no me ha gustado nada'], 'sentence_embeddings': ['Este producto es un poco asqueroso, no me ha gustado nada'], 'token': ['Este', 'producto', 'es', 'un', 'poco', 'asqueroso', ',', 'no', 'me', 'ha', 'gustado', 'nada'], 'class': ['0'], 'embeddings': ['Este', 'producto', 'es', 'un', 'poco', 'asqueroso', ',', 'no', 'me', 'ha', 'gustado', 'nada']}\n"
          ],
          "name": "stdout"
        }
      ]
    },
    {
      "cell_type": "code",
      "metadata": {
        "id": "SL0NKTFr4KjO",
        "colab": {
          "base_uri": "https://localhost:8080/"
        },
        "outputId": "9fa1cb49-a0f6-4fe9-f8b6-c999f46e4a92"
      },
      "source": [
        "predict_bert = bert_Model.transform(testDataset)\n",
        "\n",
        "predict_bert.select(\"sentiment\",\"review_body\",\"class.result\").show(10,truncate=80)"
      ],
      "execution_count": null,
      "outputs": [
        {
          "output_type": "stream",
          "text": [
            "+---------+--------------------------------------------------------------------------------+------+\n",
            "|sentiment|                                                                     review_body|result|\n",
            "+---------+--------------------------------------------------------------------------------+------+\n",
            "|        0|no me llego el articulo me lo mando por correos normal sin seguimiento y nunc...|   [0]|\n",
            "|        0|                                           la mensajería horrible, no compro mas|   [0]|\n",
            "|        0|Estoy muy decepcionado con el vendedor ya que el pedido no me llegó a tiempo ...|   [0]|\n",
            "|        0|Mi valoración no es sobre el producto sino sobre AMAZON. Ofrecéis el producto...|   [0]|\n",
            "|        0|Pues tenía interés en este libro y probé la versión kindle. se abre la portad...|   [0]|\n",
            "|        0|Compre este teclado al ver sus buenos comentarios y apariencia pero al llegar...|   [0]|\n",
            "|        0|                                               Sigue sin llegar después de meses|   [0]|\n",
            "|        0|                             No sirve para nada, es malo y se rompe y se despega|   [0]|\n",
            "|        0|Todavía espero que me llegue despues dw una semana de retraso, pesimo trato p...|   [0]|\n",
            "|        0|La peor cámara que he tenido en mis manos. Dos veces la he tenido que reempla...|   [0]|\n",
            "+---------+--------------------------------------------------------------------------------+------+\n",
            "only showing top 10 rows\n",
            "\n"
          ],
          "name": "stdout"
        }
      ]
    },
    {
      "cell_type": "code",
      "metadata": {
        "id": "GeXQxlVvvq0v",
        "colab": {
          "base_uri": "https://localhost:8080/"
        },
        "outputId": "2f16d53b-703a-4bf5-b9d4-3414f0ebdb11"
      },
      "source": [
        "(time.time() - inicio)/60"
      ],
      "execution_count": null,
      "outputs": [
        {
          "output_type": "execute_result",
          "data": {
            "text/plain": [
              "88.08658401966095"
            ]
          },
          "metadata": {
            "tags": []
          },
          "execution_count": 39
        }
      ]
    },
    {
      "cell_type": "markdown",
      "metadata": {
        "id": "d7pHK9K8tcTR"
      },
      "source": [
        "## 4.3 Obtenemos el rendimiento del modelo para comparar con la opcion de USE\n"
      ]
    },
    {
      "cell_type": "code",
      "metadata": {
        "id": "qYMrQIKeuAs6",
        "colab": {
          "base_uri": "https://localhost:8080/"
        },
        "outputId": "75e49568-4ced-4d79-ab7d-6b59918e1b80"
      },
      "source": [
        "df=bert_Model.transform(testDataset).selectExpr(\"cast(sentiment as int) as sentiment\",\"review_body\",\"class.result\").toPandas()\n",
        "# extraemos el resultado de la lista\n",
        "df.result=df.result.apply(lambda x: int(x[0]))\n",
        "\n",
        "class_names = ['negative', 'neutral', 'positive']\n",
        "\n",
        "print(classification_report(df.sentiment, df.result,target_names=class_names))\n",
        "print(accuracy_score(df.sentiment, df.result))"
      ],
      "execution_count": null,
      "outputs": [
        {
          "output_type": "stream",
          "text": [
            "              precision    recall  f1-score   support\n",
            "\n",
            "    negative       0.67      0.76      0.71      1000\n",
            "     neutral       0.49      0.42      0.45      1000\n",
            "    positive       0.59      0.61      0.60      1000\n",
            "\n",
            "    accuracy                           0.59      3000\n",
            "   macro avg       0.59      0.59      0.59      3000\n",
            "weighted avg       0.59      0.59      0.59      3000\n",
            "\n",
            "0.594\n"
          ],
          "name": "stdout"
        }
      ]
    },
    {
      "cell_type": "code",
      "metadata": {
        "id": "iNBdEut_t44y"
      },
      "source": [
        "# from sklearn import preprocessing\n",
        "le = preprocessing.LabelEncoder()\n",
        "# df[\"category_encoded\"]=le.fit_transform(df.category)\n",
        "# df_testdata[\"category_encoded\"]=le.fit_transform(df_testdata.category)\n",
        "# class_names=trainDataset.groupBy(\"category\").count().select(\"category\").rdd.flatMap(lambda x: x).collect()\n",
        "# class_names.sort()\n",
        "# class_names\n",
        "\n"
      ],
      "execution_count": null,
      "outputs": []
    },
    {
      "cell_type": "code",
      "metadata": {
        "id": "es2T7sHEtPWZ"
      },
      "source": [
        "# import seaborn as sns\n",
        "# from sklearn.metrics import confusion_matrix, classification_report\n",
        "# import matplotlib.pyplot as plt\n",
        "# from matplotlib import rc\n",
        "# from pylab import rcParams\n",
        "# %matplotlib inline\n",
        "# %config InlineBackend.figure_format='retina'\n",
        "\n",
        "# sns.set(style='whitegrid', palette='muted', font_scale=1.2)\n",
        "\n",
        "# HAPPY_COLORS_PALETTE = [\"#01BEFE\", \"#FFDD00\", \"#FF7D00\", \"#FF006D\", \"#ADFF02\", \"#8F00FF\"]\n",
        "\n",
        "# sns.set_palette(sns.color_palette(HAPPY_COLORS_PALETTE))\n",
        "\n",
        "# rcParams['figure.figsize'] = 12, 8\n",
        "\n",
        "\n",
        "\n",
        "def show_confusion_matrix(confusion_matrix):\n",
        "  hmap = sns.heatmap(confusion_matrix, annot=True, fmt=\"d\", cmap=\"Blues\")\n",
        "  hmap.yaxis.set_ticklabels(hmap.yaxis.get_ticklabels(), rotation=0, ha='right')\n",
        "  hmap.xaxis.set_ticklabels(hmap.xaxis.get_ticklabels(), rotation=30, ha='right')\n",
        "  plt.ylabel('True sentiment')\n",
        "  plt.xlabel('Predicted sentiment');\n",
        "\n"
      ],
      "execution_count": null,
      "outputs": []
    },
    {
      "cell_type": "code",
      "metadata": {
        "id": "t79an69utCDv",
        "colab": {
          "base_uri": "https://localhost:8080/",
          "height": 533
        },
        "outputId": "c463e5e0-d14a-4bd6-c2e3-5a1c009380af"
      },
      "source": [
        "cm = confusion_matrix(df.sentiment, df.result)\n",
        "df_cm = pd.DataFrame(cm, index=class_names, columns=class_names)\n",
        "show_confusion_matrix(df_cm)"
      ],
      "execution_count": null,
      "outputs": [
        {
          "output_type": "display_data",
          "data": {
            "image/png": "[encoded data removed]",
            "text/plain": [
              "<Figure size 864x576 with 2 Axes>"
            ]
          },
          "metadata": {
            "tags": [],
            "image/png": {
              "width": 725,
              "height": 516
            }
          }
        }
      ]
    },
    {
      "cell_type": "markdown",
      "metadata": {
        "id": "IsGy8K6Dp1bR"
      },
      "source": [
        "## 5. BERT SENTENCE EMBEDDINGS CLASsIFICATION MODEL\n"
      ]
    },
    {
      "cell_type": "code",
      "metadata": {
        "id": "llOmWjVgp1Ox",
        "colab": {
          "base_uri": "https://localhost:8080/"
        },
        "outputId": "d164a3eb-4065-401c-f3ad-4d6cf995c4ca"
      },
      "source": [
        "# actual content is inside description column\n",
        "document_assembler = DocumentAssembler() \\\n",
        "    .setInputCol(\"review_body\") \\\n",
        "    .setOutputCol(\"document\")\n",
        "\n",
        "\n",
        "# we can also use sentece detector here if we want to train on and get predictions for each sentence\n",
        "# las palabras o frases del lenguaje natural son representadas como vectores\n",
        "bert_sent = BertSentenceEmbeddings.pretrained(SENTENCE_PRE_TRAINED_MODEL_NAME,lang='xx')\\\n",
        "      .setInputCols([\"document\"])\\\n",
        "      .setOutputCol(\"sentence_embeddings\")\n",
        "\n",
        "# the classes/labels/categories are in sentiment column\n",
        "# MAX EPOCHS IN THIS WAS 10\n",
        "classsifierdl = ClassifierDLApproach()\\\n",
        "      .setInputCols([\"sentence_embeddings\"])\\\n",
        "      .setOutputCol(\"class\")\\\n",
        "      .setLabelColumn(\"sentiment\")\\\n",
        "      .setMaxEpochs(EPOCHS)\\\n",
        "      .setEnableOutputLogs(True)\\\n",
        "      .setLr(LEARNING_RATE)\\\n",
        "      .setBatchSize(BATCH_SIZE)\n",
        "\n",
        "bert_sent_clf_pipeline = Pipeline(\n",
        "    stages = [\n",
        "        document_assembler,\n",
        "        bert_sent,\n",
        "        classsifierdl\n",
        "    ])"
      ],
      "execution_count": null,
      "outputs": [
        {
          "output_type": "stream",
          "text": [
            "sent_bert_multi_cased download started this may take some time.\n",
            "Approximate size to download 638.6 MB\n",
            "[OK!]\n"
          ],
          "name": "stdout"
        }
      ]
    },
    {
      "cell_type": "code",
      "metadata": {
        "id": "dhlPCDrBqD_u"
      },
      "source": [
        "%%time\n",
        "bert_sent_pipelineModel = bert_sent_clf_pipeline.fit(trainDataset)\n",
        "# GPU\n",
        "# CPU times: user 2.67 s, sys: 300 ms, total: 2.97 s\n",
        "# Wall time: 12min 27s"
      ],
      "execution_count": null,
      "outputs": []
    },
    {
      "cell_type": "code",
      "metadata": {
        "id": "jLpaw8j9qGq5"
      },
      "source": [
        "# We are going to use sklearn to evalute the results on test dataset Usamos sklearn para eValuar los resultados en el conjunto de datos de prueba.\n",
        "# from sklearn.metrics import classification_report\n",
        "\n",
        "preds = bert_sent_pipelineModel.transform(testDataset)\n",
        "\n",
        "preds_df = preds.select('sentiment','review_body',\"class.result\").toPandas()\n",
        "\n",
        "preds_df['result'] = preds_df['result'].apply(lambda x : int(x[0]))\n",
        "\n",
        "print(classification_report(preds_df.sentiment, preds_df.result))\n",
        "print(accuracy_score(preds_df['sentiment'], preds_df['result']))"
      ],
      "execution_count": null,
      "outputs": []
    },
    {
      "cell_type": "code",
      "metadata": {
        "id": "-msX-RhV3R98"
      },
      "source": [
        "cm = confusion_matrix(preds_df.sentiment, preds_df.result)\n",
        "df_cm = pd.DataFrame(cm, index=class_names, columns=class_names)\n",
        "show_confusion_matrix(df_cm)"
      ],
      "execution_count": null,
      "outputs": []
    },
    {
      "cell_type": "markdown",
      "metadata": {
        "id": "WygBRqIkqTEy"
      },
      "source": [
        "**TOMAMOS PREDICCION DEL MODELO**"
      ]
    },
    {
      "cell_type": "code",
      "metadata": {
        "id": "eVrbdVfXqZ0a"
      },
      "source": [
        "# from sparknlp.base import LightPipeline\n",
        "\n",
        "light_model = LightPipeline(bert_sent_pipelineModel)"
      ],
      "execution_count": null,
      "outputs": []
    },
    {
      "cell_type": "code",
      "metadata": {
        "id": "dZt_5piXqdeu"
      },
      "source": [
        "testDataset.select('review_body').take(2)"
      ],
      "execution_count": null,
      "outputs": []
    },
    {
      "cell_type": "code",
      "metadata": {
        "id": "3K4-Y-jHqeMm"
      },
      "source": [
        "text='''\n",
        "Creo que el producto ha estado bien, sin embargo, el tema de que no pudiera hacer lo que dijo ha terminado siendo un rollo y lo vamos a devolver. \n",
        "'''\n",
        "result = light_model.annotate(text)\n",
        "\n",
        "result['class']"
      ],
      "execution_count": null,
      "outputs": []
    },
    {
      "cell_type": "code",
      "metadata": {
        "id": "l1B8l0XOqljc"
      },
      "source": [
        "light_model.annotate('the soccer games will be postponed.')"
      ],
      "execution_count": null,
      "outputs": []
    },
    {
      "cell_type": "code",
      "metadata": {
        "id": "4gNql6ip4qQ6"
      },
      "source": [
        "light_model.annotate(\n",
        "    \"Me encanta, lo recomendaría al 100%, no se como no se lo han comprado antes.\"\n",
        ")[\"class\"]"
      ],
      "execution_count": null,
      "outputs": []
    },
    {
      "cell_type": "markdown",
      "metadata": {
        "id": "bWDhXKK1D7Bg"
      },
      "source": [
        "# Pipeline COMPLETO de clasificación con ML \n",
        "\n",
        "Ahora vamos a aplicar ese modelo, realizando un poquito de preprocesado para los datos.\n",
        "\n",
        "\n",
        "\n",
        "1.   Creamos el corpus para el input del modelo\n",
        "2.   tokenizamos.\n",
        "3.   normalizamos.\n",
        "4.   quitamos stopwords (palabras que no aportan información)\n",
        "5.   lemmatizer, busca la paplabra raiz, se diferencia del stemmer a que no recorta la palabra hasta quitarle el sentido. books --> book \n",
        "6.   word embeddings no se\n",
        "7.   sentence embeddings no se\n",
        "8.   clasificador\n",
        "\n",
        "\n",
        "\n"
      ]
    },
    {
      "cell_type": "code",
      "metadata": {
        "id": "zitPKspWzmy3"
      },
      "source": [
        "# doccument_assembler = DocumentAssembler()\\\n",
        "#       .setInputCol(\"text\")\\\n",
        "#       .setOutputCol(\"document\")\n",
        "\n",
        "# tokenizer = Tokenizer()\\\n",
        "#       .setInputCols([\"document\"])\\\n",
        "#       .setOutputCol(\"token\")\n",
        "\n",
        "# normalizer = Normalizer()\\\n",
        "#       .setInputCols([\"token\"])\\\n",
        "#       .setOutputCol(\"normalized\")\n",
        "\n",
        "# stopwords_cleaner = StopWordsCleaner()\\\n",
        "#       .setInputCols([\"normalized\"])\\\n",
        "#       .setOutputCol(\"cleanTokens\")\\\n",
        "#       .setCaseSensitive(False)\n",
        "  \n",
        "# lemma = LemmatizerModel.pretrained(\"lemma_antbnc\")\\\n",
        "#       .setInputCols([\"cleanTokens\"])\\\n",
        "#       .setOutputCol(\"lemma\")\n",
        "\n",
        "# #  en lugar de usar embeddings USE podemos usar el bert, que es el que usarmemos en el modelo final.\n",
        "# word_embeddings_use = WordEmbeddingsModel().pretrained()\\\n",
        "#       .setInputCols([\"document\",\"lemma\"])\\\n",
        "#       .setOutputCol(\"embeddings\")\n",
        "\n",
        "# # este modelo --> 'bert_base_cased' para realizar el embeddings pesa bastante, quiza buscar uno mas peq.\n",
        "# word_embeddings_bert = BertEmbeddings\\\n",
        "#     .pretrained(PRE_TRAINED_MODEL_NAME, 'en') \\\n",
        "#     .setInputCols([\"document\",'lemma'])\\\n",
        "#     .setOutputCol(\"embeddings\")\\\n",
        "\n",
        "# # al igual que en las frases\n",
        "\n",
        "# embeddingsSentence = (SentenceEmbeddings()                   \n",
        "#                    .setInputCols([\"document\",\"embeddings\"])\n",
        "#                    .setOutputCol(\"sentence_embeddings\")\n",
        "#                    .setPoolingStrategy('AVERAGE')\n",
        "#                    )\n",
        "# # este era el modelo para crear las sentence embeddings con BERT 'sent_small_bert_L8_512'\n",
        "# embeddingsSentence_bert = (BertSentenceEmbeddings\n",
        "#                    .pretrained(SENTENCE_PRE_TRAINED_MODEL_NAME)\n",
        "#                    .setInputCols([\"document\",\"embeddings\"])\n",
        "#                    .setOutputCol(\"sentence_embeddings\"))\n",
        "\n",
        "\n",
        "# classifierdl = (ClassifierDLApproach()\n",
        "#   .setInputCols([\"sentence_embeddings\"])\n",
        "#   .setOutputCol(\"class\")\n",
        "#   .setLabelColumn(\"category\")\n",
        "#   .setMaxEpochs(20)\n",
        "#   .setEnableOutputLogs(True)\n",
        "# )\n",
        "\n",
        "# clf_pipeline = Pipeline(\n",
        "#     stages = [\n",
        "#               doccument_assembler,\n",
        "#               tokenizer,\n",
        "#               normalizer,\n",
        "#               stopwords_cleaner,\n",
        "#               lemma,\n",
        "#               word_embeddings_bert,\n",
        "#               embeddingsSentence_bert,\n",
        "#               classifierdl\n",
        "#               ])"
      ],
      "execution_count": null,
      "outputs": []
    },
    {
      "cell_type": "code",
      "metadata": {
        "id": "aLPRCRSG2NfX"
      },
      "source": [
        "# trainDataset.show()"
      ],
      "execution_count": null,
      "outputs": []
    },
    {
      "cell_type": "code",
      "metadata": {
        "id": "ix3FWTj2IQ5_"
      },
      "source": [
        "# %%time\n",
        "# clf_pipelineModel = clf_pipeline.fit(trainDataset)"
      ],
      "execution_count": null,
      "outputs": []
    },
    {
      "cell_type": "markdown",
      "metadata": {
        "id": "Gcx7Es0hgZbt"
      },
      "source": [
        "realizamos una prueba pequeña \"light\""
      ]
    },
    {
      "cell_type": "code",
      "metadata": {
        "id": "1_28OVAbgYzI"
      },
      "source": [
        "# light_model = LightPipeline(clf_pipelineModel)\n",
        "\n",
        "# light_result = light_model.annotate(\"John and Peter are brothers. However they don't support each other that much.\")\n"
      ],
      "execution_count": null,
      "outputs": []
    },
    {
      "cell_type": "markdown",
      "metadata": {
        "id": "Ap7dsvh9IWKe"
      },
      "source": [
        "### vermos las metricas y el rendimiento"
      ]
    },
    {
      "cell_type": "code",
      "metadata": {
        "id": "j5xO1jd7IaaS"
      },
      "source": [
        "# df = clf_pipelineModel.transform(testDataset).select(\"category\",\"description\",\"class.result\").toPandas()\n",
        "# # extraemos el resultado de la lista\n",
        "# df.result=df.result.apply(lambda x: x[0])\n",
        "\n",
        "# print(classification_report(df.category, df.result))\n",
        "# print(accuracy_score(df.category, df.result))"
      ],
      "execution_count": null,
      "outputs": []
    },
    {
      "cell_type": "code",
      "metadata": {
        "id": "91W_toGH4Np2"
      },
      "source": [
        "(time.time() - inicio)/60"
      ],
      "execution_count": null,
      "outputs": []
    },
    {
      "cell_type": "code",
      "metadata": {
        "id": "4_6Qosdc4KWH"
      },
      "source": [
        "# from pyspark.sql.functions import udf"
      ],
      "execution_count": null,
      "outputs": []
    },
    {
      "cell_type": "markdown",
      "metadata": {
        "id": "d1vWV_KEyaxA"
      },
      "source": [
        "# bibliografia"
      ]
    },
    {
      "cell_type": "code",
      "metadata": {
        "id": "Ejk0HZ3wUEeT"
      },
      "source": [
        "# seguir este tutor\n",
        "# https://github.com/JohnSnowLabs/spark-nlp-workshop/blob/master/tutorials/Certification_Trainings/Public/5.Text_Classification_with_ClassifierDL.ipynb\n",
        "\n",
        "# todas las opciones de preprocesado\n",
        "# https://github.com/JohnSnowLabs/spark-nlp-workshop/blob/master/tutorials/Certification_Trainings/Public/2.Text_Preprocessing_with_SparkNLP_Annotators_Transformers.ipynb\n",
        "# https://towardsdatascience.com/text-classification-in-spark-nlp-with-bert-and-universal-sentence-encoders-e644d618ca32\n",
        "# como instalar\n",
        "# https://nlp.johnsnowlabs.com/docs/en/install#offline\n",
        "# siguiente paso, hacerlo en python normal\n",
        "# https://colab.research.google.com/github/google-research/bert/blob/master/predicting_movie_reviews_with_bert_on_tf_hub.ipynb#scrollTo=OjwJ4bTeWXD8\n",
        "# https://colab.research.google.com/github/tensorflow/tpu/blob/master/tools/colab/bert_finetuning_with_cloud_tpus.ipynb\n",
        "# https://github.com/google-research/bert\n",
        "\n",
        "\n",
        "# para explicar las ventajas de Spark NLP vs Spacy\n",
        "# https://towardsdatascience.com/introduction-to-spark-nlp-foundations-and-basic-components-part-i-c83b7629ed59\n",
        "\n",
        "# explicacionb de bert en dIapositivas\n",
        "# http://web.stanford.edu/class/cs224n/slides/Jacob_Devlin_BERT.pdf\n",
        "\n",
        "# información \n",
        "# https://research.google.com/colaboratory/faq.html#gpu-availability"
      ],
      "execution_count": null,
      "outputs": []
    }
  ]
}